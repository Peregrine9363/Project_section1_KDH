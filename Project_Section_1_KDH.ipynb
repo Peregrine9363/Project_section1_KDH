{
  "nbformat": 4,
  "nbformat_minor": 0,
  "metadata": {
    "colab": {
      "provenance": []
    },
    "kernelspec": {
      "name": "python3",
      "display_name": "Python 3"
    },
    "language_info": {
      "name": "python"
    }
  },
  "cells": [
    {
      "cell_type": "code",
      "source": [
        "import numpy as np\n",
        "import pandas as pd\n",
        "import matplotlib.pyplot as plt\n",
        "import seaborn as sns\n",
        "\n",
        "# 1. EDA & Data Wrangling\n",
        "df = pd.read_csv('/content/vgames2.csv')\n",
        "df.head()\n",
        "df.shape\n",
        "\n",
        "df.info()\n",
        "df['Platform'].unique();\n",
        "df['Year'].unique();\n",
        "df['Genre'].unique();\n",
        "df['Publisher'].unique();"
      ],
      "metadata": {
        "id": "21JWbm-3edgs"
      },
      "execution_count": null,
      "outputs": []
    },
    {
      "cell_type": "code",
      "source": [
        "# 분석에 필요없는 열 삭제\n",
        "df_check = df.drop(['Unnamed: 0', 'Publisher'], axis=1)\n",
        "df.drop(['Unnamed: 0', 'Publisher'], axis=1, inplace=True)\n",
        "\n",
        "# 중복치 확인 후 제거\n",
        "df.duplicated().sum()\n",
        "df[df.duplicated()]\n",
        "df[df['Name'] == 'Wii de Asobu: Metroid Prime']\n",
        "df.drop_duplicates(inplace=True)\n",
        "\n",
        "df.reset_index(drop=True, inplace=True)\n",
        "df.info()"
      ],
      "metadata": {
        "id": "auH_I_n8olOi"
      },
      "execution_count": null,
      "outputs": []
    },
    {
      "cell_type": "code",
      "source": [
        "# 결측치 확인\n",
        "df.isnull()\n",
        "Year_null = df[df['Year'].isnull() == True]\n",
        "Genre_null = df[df['Genre'].isnull() == True]\n",
        "\n",
        "\n",
        "# 결측치를 제거해도 되는지 개별 관측치의 출고량 비중을 확인\n",
        "# 출고량 데이터 정제\n",
        "def change(data):\n",
        "    for i in range(len(data)):\n",
        "        if 'K' in data[i]: # K를 삭제하고 flaot타입으로 변경 후 1000을 곱해줌\n",
        "            data[i] = data[i].replace('K', '')\n",
        "            data[i] = float(data[i])*1e3\n",
        "        elif 'M' in data[i]: # M을 삭제하고 flaot타입으로 변경 후 1000000을 곱해줌\n",
        "            data[i] = data[i].replace('M', '')\n",
        "            data[i] = float(data[i])*1e6\n",
        "        else: # 기본단위는 M이므로 1000000을 곱해줌\n",
        "            data[i] = float(data[i])*1e6\n",
        "    return data\n",
        "\n",
        "change(df['NA_Sales'])\n",
        "change(df['EU_Sales'])\n",
        "change(df['JP_Sales'])\n",
        "change(df['Other_Sales'])\n",
        "\n",
        "df['NA_Sales'] = df['NA_Sales'].astype('float')\n",
        "df['EU_Sales'] = df['EU_Sales'].astype('float')\n",
        "df['JP_Sales'] = df['JP_Sales'].astype('float')\n",
        "df['Other_Sales'] = df['Other_Sales'].astype('float')\n",
        "\n",
        "df.dtypes"
      ],
      "metadata": {
        "id": "jyPCGTgTopua"
      },
      "execution_count": null,
      "outputs": []
    },
    {
      "cell_type": "code",
      "source": [
        "# 출고량 이상치 확인\n",
        "round(df.describe())\n",
        "\n",
        "plt.boxplot(df['NA_Sales'])\n",
        "df[df['NA_Sales'] == df['NA_Sales'].max()]\n",
        "\n",
        "plt.boxplot(df['EU_Sales'])\n",
        "df[df['EU_Sales'] == df['EU_Sales'].max()]\n",
        "\n",
        "plt.boxplot(df['JP_Sales'])\n",
        "df[df['JP_Sales'] == df['JP_Sales'].max()]\n",
        "\n",
        "plt.boxplot(df['NA_Sales'])\n",
        "df[df['Other_Sales'] == df['Other_Sales'].max()]"
      ],
      "metadata": {
        "id": "QZN85XMOo2Sm"
      },
      "execution_count": null,
      "outputs": []
    },
    {
      "cell_type": "code",
      "source": [
        "# 정상적인 출고량 확인 후 개별 관측치의 출고량 비중 확인\n",
        "# Genre_null 개별 관측치의 출고량 비중을 확인\n",
        "G_I = Genre_null.index\n",
        "df.iloc[G_I]\n",
        "print(round(df.iloc[G_I]['NA_Sales'].sum() / df['NA_Sales'].sum() * 100, 2), '%')\n",
        "print(round(df.iloc[G_I]['EU_Sales'].sum() / df['EU_Sales'].sum() * 100, 2), '%')\n",
        "print(round(df.iloc[G_I]['JP_Sales'].sum() / df['JP_Sales'].sum() * 100, 2), '%')\n",
        "print(round(df.iloc[G_I]['Other_Sales'].sum() / df['Other_Sales'].sum() * 100, 2), '%')\n",
        "\n",
        "# Year_null 개별 관측치의 출고량 비중을 확인\n",
        "Y_I = Year_null.index\n",
        "df.iloc[Y_I]\n",
        "print(round(df.iloc[Y_I]['NA_Sales'].sum() / df['NA_Sales'].sum() * 100, 2), '%')\n",
        "print(round(df.iloc[Y_I]['EU_Sales'].sum() / df['EU_Sales'].sum() * 100, 2), '%')\n",
        "print(round(df.iloc[Y_I]['JP_Sales'].sum() / df['JP_Sales'].sum() * 100, 2), '%')\n",
        "print(round(df.iloc[Y_I]['Other_Sales'].sum() / df['Other_Sales'].sum() * 100, 2), '%')\n",
        "\n",
        "# 모든 null값의 전체 대비 비중이 1.5%이하이므로 제거해도 분석에 큰 영향이 없다고 판단\n",
        "df.dropna(inplace=True)"
      ],
      "metadata": {
        "colab": {
          "base_uri": "https://localhost:8080/"
        },
        "id": "yQN-h07apAdd",
        "outputId": "8400423b-3c3e-4327-8739-76a0b41abb9c"
      },
      "execution_count": null,
      "outputs": [
        {
          "output_type": "stream",
          "name": "stdout",
          "text": [
            "0.47 %\n",
            "0.54 %\n",
            "1.0 %\n",
            "0.69 %\n",
            "1.35 %\n",
            "1.03 %\n",
            "0.52 %\n",
            "1.1 %\n"
          ]
        }
      ]
    },
    {
      "cell_type": "code",
      "source": [
        "# Year의 이상치 확인 후 제거\n",
        "round(df['Year'].describe())\n",
        "plt.boxplot(df['Year'])\n",
        "df_Year = df[df['Year'] < 1950]\n",
        "\n",
        "print(round(df_Year['NA_Sales'].sum() / df['NA_Sales'].sum() * 100, 2), '%')\n",
        "print(round(df_Year['EU_Sales'].sum() / df['EU_Sales'].sum() * 100, 2), '%')\n",
        "print(round(df_Year['JP_Sales'].sum() / df['JP_Sales'].sum() * 100, 2), '%')\n",
        "print(round(df_Year['Other_Sales'].sum() / df['Other_Sales'].sum() * 100, 2), '%')\n",
        "\n",
        "# Year 이상치의 전체 대비 비중이 1.5%이하이므로 제거해도 분석에 큰 영향이 없다고 판단\n",
        "df = df[df['Year'] >= 1950]\n",
        "df['Year'] = df['Year'].astype('int')"
      ],
      "metadata": {
        "colab": {
          "base_uri": "https://localhost:8080/",
          "height": 449
        },
        "id": "35mboqBppWh1",
        "outputId": "c1868da6-e2c8-4f00-ffdf-ca9e3f65a1fc"
      },
      "execution_count": null,
      "outputs": [
        {
          "output_type": "stream",
          "name": "stdout",
          "text": [
            "0.63 %\n",
            "0.66 %\n",
            "1.04 %\n",
            "0.64 %\n"
          ]
        },
        {
          "output_type": "stream",
          "name": "stderr",
          "text": [
            "<ipython-input-14-b4998f604a33>:13: SettingWithCopyWarning: \n",
            "A value is trying to be set on a copy of a slice from a DataFrame.\n",
            "Try using .loc[row_indexer,col_indexer] = value instead\n",
            "\n",
            "See the caveats in the documentation: https://pandas.pydata.org/pandas-docs/stable/user_guide/indexing.html#returning-a-view-versus-a-copy\n",
            "  df['Year'] = df['Year'].astype('int')\n"
          ]
        },
        {
          "output_type": "display_data",
          "data": {
            "text/plain": [
              "<Figure size 432x288 with 1 Axes>"
            ],
            "image/png": "[encoded data removed]"
          },
          "metadata": {
            "needs_background": "light"
          }
        }
      ]
    },
    {
      "cell_type": "code",
      "source": [
        "# Platform 및 Genre의 종류 확인\n",
        "df['Platform'].unique()\n",
        "df['Genre'].unique()\n",
        "df.info()\n",
        "\n",
        "# 여기까지 데이터 정제 완료"
      ],
      "metadata": {
        "colab": {
          "base_uri": "https://localhost:8080/"
        },
        "id": "0c6gtQwxpnOR",
        "outputId": "95e01bf6-6902-438d-cbef-06c10c83afaf"
      },
      "execution_count": null,
      "outputs": [
        {
          "output_type": "stream",
          "name": "stdout",
          "text": [
            "<class 'pandas.core.frame.DataFrame'>\n",
            "Int64Index: 16177 entries, 0 to 16596\n",
            "Data columns (total 8 columns):\n",
            " #   Column       Non-Null Count  Dtype  \n",
            "---  ------       --------------  -----  \n",
            " 0   Name         16177 non-null  object \n",
            " 1   Platform     16177 non-null  object \n",
            " 2   Year         16177 non-null  int64  \n",
            " 3   Genre        16177 non-null  object \n",
            " 4   NA_Sales     16177 non-null  float64\n",
            " 5   EU_Sales     16177 non-null  float64\n",
            " 6   JP_Sales     16177 non-null  float64\n",
            " 7   Other_Sales  16177 non-null  float64\n",
            "dtypes: float64(4), int64(1), object(3)\n",
            "memory usage: 1.1+ MB\n"
          ]
        }
      ]
    },
    {
      "cell_type": "code",
      "source": [
        "# 1차 EDA\n",
        "# 지역별 게임 장르별 출고량 파악\n",
        "df_Genre = df.groupby(['Genre'])['NA_Sales', 'EU_Sales', 'JP_Sales', 'Other_Sales'].sum()\n",
        "\n",
        "# NA\n",
        "ratio_NA = df_Genre['NA_Sales'] / df_Genre['NA_Sales'].sum()\n",
        "labels = df_Genre.index\n",
        "explode = np.repeat(0.05, 12)\n",
        "wedgeprops = {'width': 0.7, 'edgecolor': 'w', 'linewidth': 1}\n",
        "\n",
        "plt.pie(ratio_NA, labels=labels, autopct='%.1f%%', startangle=260, counterclock=False, explode=explode, \\\n",
        "        wedgeprops=wedgeprops)\n",
        "plt.show()\n",
        "\n",
        "# EU\n",
        "ratio_EU = df_Genre['EU_Sales'] / df_Genre['EU_Sales'].sum()\n",
        "\n",
        "plt.pie(ratio_EU, labels=labels, autopct='%.1f%%', startangle=260, counterclock=False, explode=explode, \\\n",
        "        wedgeprops=wedgeprops)\n",
        "plt.show()\n",
        "\n",
        "# JP\n",
        "ratio_JP = df_Genre['JP_Sales'] / df_Genre['JP_Sales'].sum()\n",
        "\n",
        "plt.pie(ratio_JP, labels=labels, autopct='%.1f%%', startangle=260, counterclock=False, explode=explode, \\\n",
        "        wedgeprops=wedgeprops)\n",
        "plt.show()\n",
        "\n",
        "# Other\n",
        "ratio_Other = df_Genre['Other_Sales'] / df_Genre['Other_Sales'].sum()\n",
        "\n",
        "plt.pie(ratio_Other, labels=labels, autopct='%.1f%%', startangle=260, counterclock=False, explode=explode, \\\n",
        "        wedgeprops=wedgeprops)\n",
        "plt.show()"
      ],
      "metadata": {
        "id": "3XiBjBBcpsuk"
      },
      "execution_count": null,
      "outputs": []
    },
    {
      "cell_type": "code",
      "source": [
        "# 분포를 한 눈에 파악하기 쉽도록 label갯수를 과반수를 차지하는 상위 7개로 조정\n",
        "# ratio_NA = pd.DataFrame(ratio_NA)\n",
        "# ratio_NA['Rank'] = ratio_NA.rank(method='average', ascending=False) # 순위 확인\n",
        "# Rank_NA = ratio_NA[ratio_NA['Rank'] <= 8]\n",
        "# Rank_NA.loc['Etc'] = 1 - Rank_NA['NA_Sales'].sum() # Etc에 나머지 비율 저장\n",
        "# 위의 과정 함수화\n",
        "def Rank(ratio):\n",
        "    ratio = pd.DataFrame(ratio)\n",
        "    ratio.drop('Misc', axis=0, inplace=True) # 기타 장르 제외\n",
        "    ratio['Rank'] = ratio.rank(method='average', ascending=False)\n",
        "    Rank = ratio[ratio['Rank'] <= 7]\n",
        "    Rank[Rank.columns[0]] = Rank[Rank.columns[0]] * 100\n",
        "    return Rank\n",
        "\n",
        "Rank_NA = Rank(ratio_NA)\n",
        "Rank_EU = Rank(ratio_EU)\n",
        "Rank_JP = Rank(ratio_JP)\n",
        "Rank_Other = Rank(ratio_Other)\n",
        "\n",
        "# 출고량 순서대로 sort\n",
        "def Rank_sort(Rank):\n",
        "    Rank = Rank.sort_values(by='Rank', axis=0)\n",
        "    return Rank\n",
        "\n",
        "Rank_NA = Rank_sort(Rank_NA)\n",
        "Rank_EU = Rank_sort(Rank_EU)\n",
        "Rank_JP = Rank_sort(Rank_JP)\n",
        "Rank_Other = Rank_sort(Rank_Other)"
      ],
      "metadata": {
        "colab": {
          "base_uri": "https://localhost:8080/"
        },
        "id": "3f97EkAjrz4-",
        "outputId": "a40d438b-465a-4027-a847-a2ad5f659558"
      },
      "execution_count": null,
      "outputs": [
        {
          "output_type": "stream",
          "name": "stderr",
          "text": [
            "<ipython-input-17-f4904f72d093>:12: SettingWithCopyWarning: \n",
            "A value is trying to be set on a copy of a slice from a DataFrame.\n",
            "Try using .loc[row_indexer,col_indexer] = value instead\n",
            "\n",
            "See the caveats in the documentation: https://pandas.pydata.org/pandas-docs/stable/user_guide/indexing.html#returning-a-view-versus-a-copy\n",
            "  Rank[Rank.columns[0]] = Rank[Rank.columns[0]] * 100\n"
          ]
        }
      ]
    },
    {
      "cell_type": "code",
      "source": [
        "# barplot으로 비교\n",
        "# sns.set_theme() # 얘가 한글폰트 깨짐 이유\n",
        "sns.set(font=\"Malgun Gothic\", \n",
        "        rc={\"axes.unicode_minus\":False},\n",
        "        style='darkgrid')\n",
        "\n",
        "def Rank_plot(x, r):\n",
        "    sns.barplot(x.index, x[x.columns[0]])\n",
        "    plt.title(\"{} 게임 장르별 출고량 (%)\".format(r))\n",
        "    plt.show()\n",
        "\n",
        "Rank_plot(Rank_NA, '북미')\n",
        "Rank_plot(Rank_EU, '유럽')\n",
        "Rank_plot(Rank_JP, '일본')\n",
        "Rank_plot(Rank_Other, '기타 지역')"
      ],
      "metadata": {
        "id": "Hae-b2lgr3N9"
      },
      "execution_count": null,
      "outputs": []
    },
    {
      "cell_type": "code",
      "source": [
        "# 연도별 장르 출고량\n",
        "df_gy = df.groupby(['Genre', 'Year'])['NA_Sales', 'EU_Sales', 'JP_Sales', 'Other_Sales'].sum()\n",
        "df_gy['All_Sales'] = None\n",
        "\n",
        "for i in range(len(df_gy)):\n",
        "    df_gy.iloc[i, 4] = df_gy.iloc[i].sum()\n",
        "    \n",
        "# plot\n",
        "def plot_year(r):\n",
        "    sns.lineplot(data=df_gy, x=\"Year\", y=r, hue=\"Genre\", legend = False)\n",
        "    plt.legend(labels=df_Genre.index, loc = 'upper left', bbox_to_anchor = (1, 1))\n",
        "    plt.show()\n",
        "\n",
        "plot_year('All_Sales')\n",
        "plot_year('NA_Sales')\n",
        "plot_year('EU_Sales')\n",
        "plot_year('JP_Sales')\n",
        "plot_year('Other_Sales')"
      ],
      "metadata": {
        "id": "iimzmmMttCi_"
      },
      "execution_count": null,
      "outputs": []
    },
    {
      "cell_type": "code",
      "source": [
        "# plot 결과 2000년대 이전의 판매량은 트렌드 예측을 위한 분석에서 중요도가 낮고 데이터도 적음\n",
        "# 또한 콘솔 플랫폼 대부분을 차지하는 PS,XBOX,Nintendo가 본격적으로 자리잡은 시기가 2000년 이후이므로\n",
        "# 앞으로의 분석은 2000년 이후 데이터만 사용하는 것이 적절하다고 판단\n",
        "# 2000년 이후로 상대적으로 비율이 낮은 플랫폼 제외(DC, WS, GB, N64)\n",
        "df = df.query('Year >= 2000')\n",
        "df = df.sort_values(by='Year', axis=0)\n",
        "\n",
        "def drop_platform(x):\n",
        "    index_platform = df[df['Platform'] == '{}'.format(x)].index\n",
        "    df.drop(index_platform, axis=0, inplace=True)\n",
        "\n",
        "drop_platform('DC')\n",
        "drop_platform('WS')\n",
        "drop_platform('GB')\n",
        "drop_platform('N64')\n",
        "\n",
        "df.reset_index(drop=True, inplace=True)\n",
        "\n",
        "df['All_Sales'] = None\n",
        "\n",
        "for i in range(len(df)):\n",
        "    df.iloc[i, -1] = df.iloc[i, -5:-1].sum()"
      ],
      "metadata": {
        "id": "_hXgsSEMvsuJ"
      },
      "execution_count": null,
      "outputs": []
    },
    {
      "cell_type": "code",
      "source": [
        "# 2차 EDA\n",
        "# 지역별 게임 장르별 출고량 파악\n",
        "df_Genre = df.groupby(['Genre'])['NA_Sales', 'EU_Sales', 'JP_Sales', 'Other_Sales'].sum()\n",
        "df_Genre['All_Sales'] = None\n",
        "\n",
        "for i in range(len(df_Genre)):\n",
        "    df_Genre.iloc[i, -1] = df_Genre.iloc[i].sum()\n",
        "\n",
        "# 판매비중\n",
        "ratio_NA = df_Genre['NA_Sales'] / df_Genre['NA_Sales'].sum()\n",
        "ratio_EU = df_Genre['EU_Sales'] / df_Genre['EU_Sales'].sum()\n",
        "ratio_JP = df_Genre['JP_Sales'] / df_Genre['JP_Sales'].sum()\n",
        "ratio_Other = df_Genre['Other_Sales'] / df_Genre['Other_Sales'].sum()\n",
        "ratio_All = df_Genre['All_Sales'] / df_Genre['All_Sales'].sum()\n",
        "\n",
        "Rank_NA = Rank(ratio_NA)\n",
        "Rank_EU = Rank(ratio_EU)\n",
        "Rank_JP = Rank(ratio_JP)\n",
        "Rank_Other = Rank(ratio_Other)\n",
        "Rank_All = Rank(ratio_All)\n",
        "\n",
        "Rank_NA = Rank_sort(Rank_NA)\n",
        "Rank_EU = Rank_sort(Rank_EU)\n",
        "Rank_JP = Rank_sort(Rank_JP)\n",
        "Rank_Other = Rank_sort(Rank_Other)\n",
        "Rank_All = Rank_sort(Rank_All)\n",
        "\n",
        "# barplot으로 비교\n",
        "Rank_plot(Rank_NA, '북미')\n",
        "Rank_plot(Rank_EU, '유럽')\n",
        "Rank_plot(Rank_JP, '일본')\n",
        "Rank_plot(Rank_Other, '기타 지역')\n",
        "Rank_plot(Rank_All, '전세계')"
      ],
      "metadata": {
        "id": "w3gyzBVfv28l"
      },
      "execution_count": null,
      "outputs": []
    },
    {
      "cell_type": "code",
      "source": [
        "# 플랫폼 별 출고량\n",
        "df_Platform = df.groupby('Platform')['NA_Sales', 'EU_Sales', 'JP_Sales', 'Other_Sales'].sum()\n",
        "\n",
        "df_Platform['All_Sales'] = None\n",
        "\n",
        "for i in range(len(df_Platform)):\n",
        "    df_Platform.iloc[i, -1] = df_Platform.iloc[i, -5:-1].sum()\n",
        "\n",
        "sns.set(font=\"Malgun Gothic\", \n",
        "        rc={\"axes.unicode_minus\":False},\n",
        "        style='darkgrid')\n",
        "\n",
        "def Platform_plot(r, r_name):\n",
        "    y_val = df_Platform['{}'.format(r)] / 1e6\n",
        "    sns.barplot(data=df_Platform, x=df_Platform.index, y=y_val)\n",
        "    plt.title(\"{} 플랫폼별 출고량 (백 만장)\".format(r_name))\n",
        "    plt.show()\n",
        "    \n",
        "Platform_plot('NA_Sales', '북미')\n",
        "Platform_plot('EU_Sales', '유럽')\n",
        "Platform_plot('JP_Sales', '일본')\n",
        "Platform_plot('Other_Sales', '기타 지역')\n",
        "Platform_plot('All_Sales', '전세계')"
      ],
      "metadata": {
        "id": "_Lu8s6-JxbNk"
      },
      "execution_count": null,
      "outputs": []
    },
    {
      "cell_type": "code",
      "source": [
        "# 플랫폼 기종별로 데이터 취합(X360, XB, XOne / PS, PS2, PS3, PS4, PSP, PSV / Wii, WiiU, 3DS, DS, GBA, GC)\n",
        "# 같은 회사의 기기는 같은 서드파티에서 게임을 개발하므로 시리즈의 연속성이 있어 고객의 충성도가 높음(예 : 포켓몬스터)\n",
        "df_check = df.copy()\n",
        "df = df.replace({'Platform' : ['X360', 'XB', 'XOne']}, 'XBOX')\n",
        "df = df.replace({'Platform' : ['PS', 'PS2', 'PS3', 'PS4', 'PSP', 'PSV']}, 'PlayStation')\n",
        "df = df.replace({'Platform' : ['Wii', 'WiiU', '3DS', 'DS', 'GBA', 'GC']}, 'Nintendo')\n",
        "\n",
        "df_Platform = df.groupby('Platform')['NA_Sales', 'EU_Sales', 'JP_Sales', 'Other_Sales'].sum()\n",
        "\n",
        "df_Platform['All_Sales'] = None\n",
        "\n",
        "for i in range(len(df_Platform)):\n",
        "    df_Platform.iloc[i, -1] = df_Platform.iloc[i, -5:-1].sum()\n",
        "    \n",
        "def Platform_plot(r, r_name):\n",
        "    y_val = df_Platform['{}'.format(r)] / 1e6\n",
        "    sns.barplot(data=df_Platform, x=df_Platform.index, y=y_val)\n",
        "    plt.title(\"{} 플랫폼별 출고량 (백 만장)\".format(r_name))\n",
        "    plt.show()\n",
        "    \n",
        "Platform_plot('NA_Sales', '북미')\n",
        "Platform_plot('EU_Sales', '유럽')\n",
        "Platform_plot('JP_Sales', '일본')\n",
        "Platform_plot('Other_Sales', '기타 지역')\n",
        "Platform_plot('All_Sales', '전세계')"
      ],
      "metadata": {
        "id": "qPFdG9IA_Ccr"
      },
      "execution_count": null,
      "outputs": []
    },
    {
      "cell_type": "code",
      "source": [
        "# 00-20 연도별 장르 출고량\n",
        "df_top7 = df.query(\"Genre == ('Sports', 'Simulation', 'Platform', 'Action', 'Role-Playing', 'Shooter', 'Racing')\")\n",
        "df_top7.reset_index(drop=True, inplace=True)\n",
        "df_Genre = pd.DataFrame(['Action', 'Platform', 'Racing', 'Role-Playing', 'Shooter', 'Simulation', 'Sports'],\n",
        "                        columns=['Genre'])\n",
        "\n",
        "df_gy = df_top7.groupby(['Genre', 'Year'])['NA_Sales', 'EU_Sales', 'JP_Sales', 'Other_Sales'].sum()\n",
        "df_gy['All_Sales'] = None\n",
        "\n",
        "for i in range(len(df_gy)):\n",
        "    df_gy.iloc[i, 4] = df_gy.iloc[i].sum()\n",
        "    \n",
        "# plot\n",
        "def plot_year(r, r_name):\n",
        "    sns.lineplot(data=df_gy, x=\"Year\", y=r, hue=\"Genre\", legend = False)\n",
        "    plt.title(\"{} 연도별 게임 출고량(백 만장)\".format(r_name))\n",
        "    plt.legend(labels=df_Genre['Genre'], loc = 'upper left', bbox_to_anchor = (1, 1))\n",
        "    plt.show()\n",
        "\n",
        "plot_year('All_Sales', '전세계')\n",
        "plot_year('NA_Sales', '북미')\n",
        "plot_year('EU_Sales', '유럽')\n",
        "plot_year('JP_Sales', '일본')\n",
        "plot_year('Other_Sales', '기타 지역')"
      ],
      "metadata": {
        "id": "RtprHvh9ABE5"
      },
      "execution_count": null,
      "outputs": []
    },
    {
      "cell_type": "code",
      "source": [
        "# 인기가 많은 게임\n",
        "df_Rank = df.sort_values(by='All_Sales', ascending=False, axis=0)\n",
        "df_Rank['Rank'] = df_Rank['All_Sales'].rank(method='average', ascending=False)\n",
        "df_Rank.reset_index(drop=True, inplace=True)\n",
        "\n",
        "# 순위별 판매량\n",
        "sns.scatterplot(data=df_Rank, x='Rank', y='All_Sales')\n",
        "plt.vlines(800, 0, 6e7, color='red', linestyle='solid', linewidth=1)\n",
        "plt.show()\n",
        "\n",
        "# 로그스케일\n",
        "sns.scatterplot(data=df_Rank, x='Rank', y='All_Sales')\n",
        "plt.vlines(800, 1e5, 6e7, color='red', linestyle='solid', linewidth=1)\n",
        "plt.semilogy(base=10)\n",
        "plt.show()"
      ],
      "metadata": {
        "id": "m85XK6FfCCJV"
      },
      "execution_count": null,
      "outputs": []
    },
    {
      "cell_type": "code",
      "source": [
        "# 상위 100 중위 100 하위 100에서 인기IP 타이틀 추출(수작업)\n",
        "df_800 = df_Rank.query('Rank <= 800')\n",
        "\n",
        "# IP_Name(인기IP) 설정\n",
        "IP_Name = pd.read_csv('/content/IP.csv')\n",
        "IP_Name['IP_Name'] = IP_Name.columns\n",
        "IP_Name.drop(IP_Name['IP_Name'], axis=1, inplace=True)\n",
        "IP_Nintendo = pd.DataFrame(['Wii', 'Pokémon', 'Pokemon', 'Mario', 'Zelda,Super', 'Smash Bros'])\n",
        "IP_Nintendo.rename(columns = {0 : 'IP_Name'}, inplace = True)\n",
        "\n",
        "import re\n",
        "p = re.compile('\\d')\n",
        "df_800['IP'] = None\n",
        "df_800.iloc[:, -1] = 0\n",
        "\n",
        "# IP_Name에 포함되거나 이름에 숫자가 있으면 인기IP (1) 아니면 신규IP (0) \n",
        "for i in range(len(df_800)):\n",
        "    if (p.search(df_800['Name'][i]) != None) == True: # 타이틀 이름에 숫자가 있으면\n",
        "        df_800.iloc[i, -1] = 1\n",
        "    else:\n",
        "        for j in range(len(IP_Name)):\n",
        "            if IP_Name.iloc[j, 0] in df_800['Name'][i]: # IP_Name에 포함되면\n",
        "                df_800.iloc[i, -1] = 1"
      ],
      "metadata": {
        "id": "x57qPdACEGgM"
      },
      "execution_count": null,
      "outputs": []
    },
    {
      "cell_type": "code",
      "source": [
        "# 귀무가설과 대립가설\n",
        "# 인기 IP의 평균 판매량이 신규 IP의 평균판매량보다 크다.\n",
        "# H0 u인기 <= u신규\n",
        "# H1 u인기 > u신규\n",
        "\n",
        "# 로열티가 없다고 가정\n",
        "# a. 신뢰구간 확인\n",
        "np.random.seed(10)\n",
        "\n",
        "means_ip_s, means_ip_n, diff_means = [], [], []\n",
        "\n",
        "for _ in range(10000):\n",
        "  sample = df_800.sample(df_800.shape[0], replace=True)\n",
        "  \n",
        "  mean_ip_s = sample[sample['IP'] == 1].All_Sales.mean()\n",
        "  means_ip_s.append(mean_ip_s)\n",
        "\n",
        "  mean_ip_n = sample[sample['IP'] == 0].All_Sales.mean()\n",
        "  means_ip_n.append(mean_ip_n)\n",
        "\n",
        "  diff_means.append(mean_ip_s - mean_ip_n)\n",
        "\n",
        "plt.figure(figsize=(8,5))\n",
        "plt.hist(means_ip_s, alpha = 0.5, label = '인기 IP')\n",
        "plt.hist(means_ip_n, alpha = 0.5, label = '신규 IP')\n",
        "plt.legend(loc=1, fontsize=10)\n",
        "plt.show()\n",
        "\n",
        "plt.figure(figsize=(8,5))\n",
        "plt.hist(diff_means, alpha=0.5, label = '평균 판매량 차이')\n",
        "plt.axvline(0, c='r')\n",
        "plt.legend(loc=1, fontsize=10);\n",
        "\n",
        "# b. p-value 확인\n",
        "sample_diff_mean = df_800[df_800['IP'] == 1].All_Sales.mean() - df_800[df_800['IP'] == 0].All_Sales.mean()\n",
        "sample_diff_mean\n",
        "\n",
        "sample_diff_std = np.std(diff_means)\n",
        "sample_diff_std\n",
        "\n",
        "plt.figure(figsize=(8,5))\n",
        "null_vals = np.random.normal(0, sample_diff_std, 10000) \n",
        "plt.hist(null_vals, alpha=0.5, label='null hypothesis')\n",
        "plt.axvline(sample_diff_mean, color='r', label='statistics')\n",
        "plt.legend(loc=1, fontsize=10)\n",
        "plt.show()"
      ],
      "metadata": {
        "id": "G653WxHWEb-s"
      },
      "execution_count": null,
      "outputs": []
    },
    {
      "cell_type": "code",
      "source": [
        "# 로열티 10%\n",
        "# a. 신뢰구간 확인\n",
        "for i in range(len(df_800)):\n",
        "    if df_800.iloc[i, -1] == 1:\n",
        "        df_800.iloc[i, -3] = df_800.iloc[i, -3] * 0.90\n",
        "\n",
        "np.random.seed(10)\n",
        "\n",
        "means_ip_s, means_ip_n, diff_means = [], [], []\n",
        "\n",
        "for _ in range(10000):\n",
        "  sample = df_800.sample(df_800.shape[0], replace=True)\n",
        "  \n",
        "  mean_ip_s = sample[sample['IP'] == 1].All_Sales.mean()\n",
        "  means_ip_s.append(mean_ip_s)\n",
        "\n",
        "  mean_ip_n = sample[sample['IP'] == 0].All_Sales.mean()\n",
        "  means_ip_n.append(mean_ip_n)\n",
        "\n",
        "  diff_means.append(mean_ip_s - mean_ip_n)\n",
        "\n",
        "plt.figure(figsize=(8,5))\n",
        "plt.hist(means_ip_s, alpha = 0.5, label = '인기 IP (로열티 10%)')\n",
        "plt.hist(means_ip_n, alpha = 0.5, label = '신규 IP')\n",
        "plt.legend(loc=1, fontsize=10)\n",
        "plt.show()\n",
        "\n",
        "plt.figure(figsize=(8,5))\n",
        "plt.hist(diff_means, alpha=0.5, label = '평균 판매량 차이')\n",
        "plt.axvline(0, c='r')\n",
        "plt.legend(loc=1, fontsize=10);\n",
        "\n",
        "# b. p-value 확인\n",
        "sample_diff_mean = df_800[df_800['IP'] == 1].All_Sales.mean() - df_800[df_800['IP'] == 0].All_Sales.mean()\n",
        "sample_diff_mean\n",
        "\n",
        "sample_diff_std = np.std(diff_means)\n",
        "sample_diff_std\n",
        "\n",
        "plt.figure(figsize=(8,5))\n",
        "null_vals = np.random.normal(0, sample_diff_std, 10000) \n",
        "plt.hist(null_vals, alpha=0.5, label='null hypothesis')\n",
        "plt.axvline(sample_diff_mean, color='r', label='statistics')\n",
        "plt.legend(loc=1, fontsize=10)\n",
        "plt.show()"
      ],
      "metadata": {
        "id": "sc4KLK9EEpO6"
      },
      "execution_count": null,
      "outputs": []
    }
  ]
}